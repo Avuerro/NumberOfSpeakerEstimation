{
 "cells": [
  {
   "cell_type": "code",
   "execution_count": 1,
   "metadata": {},
   "outputs": [],
   "source": [
    "import os\n",
    "import shutil\n",
    "import numpy as np\n",
    "from subprocess import call\n",
    "import sys\n",
    "sys.path.insert(0, './src/')\n",
    "from src import util\n",
    "import IPython.display as ipd\n",
    "import json\n",
    "from sklearn.metrics import confusion_matrix\n",
    "from sklearn.metrics import mean_absolute_error as mae\n",
    "import seaborn as sns\n",
    "import matplotlib.pyplot as plt\n",
    "import statistics\n",
    "import random\n",
    "import csv\n",
    "experimental_conditions = [750, 500, 250]\n",
    "data_dir = \"/vol/tensusers3/camghane/ASR/LibriSpeech_train_clean_360/data/train-clean-360/normalized\"\n",
    "\n",
    "\n",
    "copy_subsets = False\n",
    "merge_files = False"
   ]
  },
  {
   "cell_type": "code",
   "execution_count": 2,
   "metadata": {
    "scrolled": false
   },
   "outputs": [],
   "source": [
    "import tensorflow as tf"
   ]
  },
  {
   "cell_type": "code",
   "execution_count": 3,
   "metadata": {},
   "outputs": [
    {
     "data": {
      "text/plain": [
       "'2.5.0'"
      ]
     },
     "execution_count": 3,
     "metadata": {},
     "output_type": "execute_result"
    }
   ],
   "source": [
    "tf.__version__"
   ]
  },
  {
   "cell_type": "markdown",
   "metadata": {},
   "source": [
    "## Copy Subsets of LibriSpeech 360"
   ]
  },
  {
   "cell_type": "code",
   "execution_count": 4,
   "metadata": {},
   "outputs": [],
   "source": [
    "def cp_dir(source, target):\n",
    "    call(['cp', '-a', source, target]) # Linux"
   ]
  },
  {
   "cell_type": "code",
   "execution_count": 5,
   "metadata": {
    "scrolled": false
   },
   "outputs": [],
   "source": [
    "if copy_subsets:\n",
    "    speakers = np.array(os.listdir(data_dir))\n",
    "    for nr_speakers in experimental_conditions:\n",
    "\n",
    "        new_data_dir = \"/vol/tensusers3/camghane/ASR/jdy/data/trainset{}/normalized\".format(nr_speakers)\n",
    "\n",
    "        if not os.path.exists(new_data_dir):\n",
    "            os.makedirs(new_data_dir)\n",
    "\n",
    "        speakers_subset = speakers[np.random.choice(len(speakers), size=nr_speakers, replace=False)]\n",
    "\n",
    "        for speaker_id in speakers_subset:\n",
    "            source_loc = data_dir + \"/{}\".format(speaker_id)\n",
    "            target_loc = new_data_dir + \"/{}\".format(speaker_id)\n",
    "            cp_dir(source_loc, target_loc)\n"
   ]
  },
  {
   "cell_type": "markdown",
   "metadata": {},
   "source": [
    "## Merging Files for smallest Dataset"
   ]
  },
  {
   "cell_type": "code",
   "execution_count": 6,
   "metadata": {
    "scrolled": false
   },
   "outputs": [],
   "source": [
    "\n",
    "if merge_files:\n",
    "    max_nr_of_speakers = 10\n",
    "\n",
    "    for nr_speakers in experimental_conditions:\n",
    "        data_dir = \"/vol/tensusers3/camghane/ASR/jdy/data/trainset{}/normalized/\".format(nr_speakers)\n",
    "        new_dir = \"/vol/tensusers3/camghane/ASR/jdy/data/trainset{}/merged/\".format(nr_speakers)\n",
    "        if not os.path.exists(new_dir):\n",
    "            os.makedirs(new_dir)\n",
    "        util.merge_audiofiles(data_dir, new_dir, max_nr_of_speakers)"
   ]
  },
  {
   "cell_type": "markdown",
   "metadata": {},
   "source": [
    "## Move Files for Larger Datasets\n",
    "\n",
    "For the 500 and 750 speaker dataset, files per speaker need to be moved, such that in the end, all three datasets are of equal size"
   ]
  },
  {
   "cell_type": "code",
   "execution_count": 7,
   "metadata": {
    "scrolled": false
   },
   "outputs": [],
   "source": [
    "# data_dir = '/vol/tensusers3/camghane/ASR/jdy/data/trainset750/normalized/'\n",
    "# for base, dirs, files in os.walk(data_dir):\n",
    "#     speaker_files = []\n",
    "#     for f in files:\n",
    "#         sid = f.split(\"_\")[0]\n",
    "#         #print(f.split(\"_\")[0])\n",
    "# #         print(data_dir+sid+\"/\"+f)\n",
    "#         speaker_files.append(data_dir+sid+\"/\"+f)\n",
    "#     print(len(speaker_files))\n",
    "# #     speaker_files = np.array(speaker_files)\n",
    "# #     random = speaker_files[np.random.choice(len(speaker_files), size=int(len(speaker_files)/3), replace=False)]\n",
    "# #     print(len(random))\n",
    "    \n",
    "# #     for source_path in random:\n",
    "# #         new_filepath = source_path.replace('normalized', 'backup')\n",
    "# #         filename = new_filepath.split(\"/\")[-1]\n",
    "# #         new_path = new_filepath.replace(filename, \"\")\n",
    "# #         if not os.path.exists(new_path):\n",
    "# #             os.makedirs(new_path)\n",
    "# #         shutil.move(source_path, new_filepath)\n",
    "#     print(\"----\")\n",
    "        "
   ]
  },
  {
   "cell_type": "markdown",
   "metadata": {},
   "source": [
    "## Counting Size per Class"
   ]
  },
  {
   "cell_type": "code",
   "execution_count": 8,
   "metadata": {
    "scrolled": false
   },
   "outputs": [
    {
     "name": "stdout",
     "output_type": "stream",
     "text": [
      "Total Files in Class 1 for 250 speakers: 654\n",
      "Total Files in Class 1 for 500 speakers: 662\n",
      "Total Files in Class 1 for 750 speakers: 656\n",
      "Total Files in Class 1 for original set: 2410\n",
      "\n",
      "Total Files in Class 2 for 250 speakers: 651\n",
      "Total Files in Class 2 for 500 speakers: 663\n",
      "Total Files in Class 2 for 750 speakers: 656\n",
      "Total Files in Class 2 for original set: 2410\n",
      "\n",
      "Total Files in Class 3 for 250 speakers: 648\n",
      "Total Files in Class 3 for 500 speakers: 662\n",
      "Total Files in Class 3 for 750 speakers: 657\n",
      "Total Files in Class 3 for original set: 2407\n",
      "\n",
      "Total Files in Class 4 for 250 speakers: 649\n",
      "Total Files in Class 4 for 500 speakers: 662\n",
      "Total Files in Class 4 for 750 speakers: 657\n",
      "Total Files in Class 4 for original set: 2407\n",
      "\n",
      "Total Files in Class 5 for 250 speakers: 651\n",
      "Total Files in Class 5 for 500 speakers: 662\n",
      "Total Files in Class 5 for 750 speakers: 656\n",
      "Total Files in Class 5 for original set: 2407\n",
      "\n",
      "Total Files in Class 6 for 250 speakers: 648\n",
      "Total Files in Class 6 for 500 speakers: 661\n",
      "Total Files in Class 6 for 750 speakers: 656\n",
      "Total Files in Class 6 for original set: 2407\n",
      "\n",
      "Total Files in Class 7 for 250 speakers: 647\n",
      "Total Files in Class 7 for 500 speakers: 662\n",
      "Total Files in Class 7 for 750 speakers: 655\n",
      "Total Files in Class 7 for original set: 2406\n",
      "\n",
      "Total Files in Class 8 for 250 speakers: 647\n",
      "Total Files in Class 8 for 500 speakers: 661\n",
      "Total Files in Class 8 for 750 speakers: 655\n",
      "Total Files in Class 8 for original set: 2405\n",
      "\n",
      "Total Files in Class 9 for 250 speakers: 647\n",
      "Total Files in Class 9 for 500 speakers: 661\n",
      "Total Files in Class 9 for 750 speakers: 655\n",
      "Total Files in Class 9 for original set: 2405\n",
      "\n",
      "Total Files in Class 10 for 250 speakers: 647\n",
      "Total Files in Class 10 for 500 speakers: 660\n",
      "Total Files in Class 10 for 750 speakers: 655\n",
      "Total Files in Class 10 for original set: 2405\n",
      "\n",
      "Total Files in Class 0 for 250 speakers: 648\n",
      "Total Files in Class 0 for 500 speakers: 661\n",
      "Total Files in Class 0 for 750 speakers: 655\n",
      "Total Files in Class 0 for original set: 2406\n",
      "\n",
      "7137\n",
      "7277\n",
      "7213\n",
      "26475\n"
     ]
    }
   ],
   "source": [
    "data_dir = \"/vol/tensusers3/camghane/ASR/jdy/data/trainset250/merged/train/\"\n",
    "set500 = \"/vol/tensusers3/camghane/ASR/jdy/data/trainset500/merged/train/\"\n",
    "set750 = \"/vol/tensusers3/camghane/ASR/jdy/data/trainset750/merged/train/\"\n",
    "original_set = \"/vol/tensusers3/camghane/ASR/LibriSpeech_train_clean_360/data/train-clean-360/merged/train/\"\n",
    "\n",
    "totalDir = 0\n",
    "total250 = 0\n",
    "total500 = 0\n",
    "total750 = 0\n",
    "\n",
    "for (base250, dirs250, files250), (base500, dirs500, files500), (base750, dirs750, files750), (base_or, dirs_or, files_or) in zip(os.walk(data_dir), os.walk(set500), os.walk(set750), os.walk(original_set)):\n",
    "    if not base500.endswith('/'):\n",
    "        total_or = 0\n",
    "        totalFiles250 = 0\n",
    "        totalFiles500 = 0\n",
    "        totalFiles750 = 0\n",
    "        #print('Searching in : ',base)\n",
    "        for Files in files250:\n",
    "            totalFiles250 += 1\n",
    "        for Files in files500:\n",
    "            totalFiles500 +=1\n",
    "        for Files in files750:\n",
    "            totalFiles750 +=1\n",
    "        for Files in files_or:\n",
    "            total_or += 1\n",
    "        print(\"Total Files in Class {} for 250 speakers: {}\".format(base250.split('/')[-1], totalFiles250))\n",
    "        print(\"Total Files in Class {} for 500 speakers: {}\".format(base500.split('/')[-1], totalFiles500))\n",
    "        print(\"Total Files in Class {} for 750 speakers: {}\".format(base750.split('/')[-1], totalFiles750))\n",
    "        print(\"Total Files in Class {} for original set: {}\".format(base750.split('/')[-1], total_or))\n",
    "        print(\"\")\n",
    "        \n",
    "        total250 += totalFiles250\n",
    "        total500 += totalFiles500\n",
    "        total750 += totalFiles750\n",
    "        totalDir += total_or\n",
    "print(total250)\n",
    "print(total500)\n",
    "print(total750)\n",
    "print(totalDir)"
   ]
  },
  {
   "cell_type": "markdown",
   "metadata": {},
   "source": [
    "## Results"
   ]
  },
  {
   "cell_type": "code",
   "execution_count": 26,
   "metadata": {},
   "outputs": [],
   "source": [
    "with open('/vol/tensusers3/camghane/ASR/predictions.json') as json_file:\n",
    "    data = json.load(json_file)\n",
    "with open('/vol/tensusers3/camghane/ASR/jdy/predictions_250.json') as json_file:\n",
    "    data250 = json.load(json_file)\n",
    "with open('/vol/tensusers3/camghane/ASR/jdy/predictions_500.json') as json_file:\n",
    "    data500 = json.load(json_file)\n",
    "with open('/vol/tensusers3/camghane/ASR/jdy/predictions_750.json') as json_file:\n",
    "    data750 = json.load(json_file)"
   ]
  },
  {
   "cell_type": "code",
   "execution_count": 27,
   "metadata": {
    "scrolled": true
   },
   "outputs": [
    {
     "data": {
      "image/png": "[encoded data removed]",
      "text/plain": [
       "<Figure size 360x360 with 2 Axes>"
      ]
     },
     "metadata": {
      "needs_background": "light"
     },
     "output_type": "display_data"
    }
   ],
   "source": [
    "y_true = data['y_true']\n",
    "y_pred = data['y_pred']\n",
    "\n",
    "cm_train = confusion_matrix(y_true, y_pred, labels=range(11))\n",
    "\n",
    "# Create figure\n",
    "fig, ax = plt.subplots(1,1, figsize=(5,5))\n",
    "\n",
    "\n",
    "\n",
    "# Plot confusion matrix for training data\n",
    "sns.heatmap(cm_train, annot=True, fmt='g', ax=ax, cmap=\"Blues\")\n",
    "\n",
    "ax.set_xlabel('Predicted labels')\n",
    "ax.set_ylabel('True labels')\n",
    "ax.set_title('Confusion Matrix for Baseline Model')\n",
    "\n",
    "b, t = plt.ylim() # discover the values for bottom and top\n",
    "b += 0.5 # Add 0.5 to the bottom\n",
    "t -= 0.5 # Subtract 0.5 from the top\n",
    "plt.ylim(b, t) # update the ylim(bottom, top) values\n",
    "plt.savefig(\"confusion_baseline.png\")\n",
    "plt.show() # ta-da!\n",
    "\n",
    "# Show the result\n",
    "# plt.show()"
   ]
  },
  {
   "cell_type": "code",
   "execution_count": 28,
   "metadata": {},
   "outputs": [
    {
     "name": "stdout",
     "output_type": "stream",
     "text": [
      "MAE: 0.3471882640586797\n",
      "MAE St.Dev.: 0.548391736200062\n",
      "Relative MAE: 0.05568448882503808\n",
      "Relative MAE St.Dev.: 0.09394000696264884\n"
     ]
    }
   ],
   "source": [
    "y_true = np.array(y_true)\n",
    "y_pred = np.array(y_pred)\n",
    "\n",
    "print(\"MAE: {}\".format(mae(y_true, y_pred)))\n",
    "print(\"MAE St.Dev.: {}\".format(statistics.stdev(abs(y_true.astype(np.float)-y_pred.astype(np.float)))))\n",
    "print(\"Relative MAE: {}\".format(np.mean(abs(y_true-y_pred)/ (y_pred+0.00001))))\n",
    "print(\"Relative MAE St.Dev.: {}\".format(statistics.stdev( abs(y_true-y_pred)/ (y_pred+0.00001) )))"
   ]
  },
  {
   "cell_type": "code",
   "execution_count": 29,
   "metadata": {},
   "outputs": [],
   "source": [
    "results = abs(y_true-y_pred)\n",
    "\n",
    "for r in results:\n",
    "    with open('results.csv','a') as fd:\n",
    "        writer = csv.writer(fd)\n",
    "        writer.writerow([r, 'baseline'])"
   ]
  },
  {
   "cell_type": "code",
   "execution_count": 30,
   "metadata": {},
   "outputs": [],
   "source": [
    "\n",
    "with open('results_relative.csv','a') as fd:\n",
    "        writer = csv.writer(fd)\n",
    "        writer.writerow(['abs_error', 'group'])\n",
    "        \n",
    "results = abs(y_true-y_pred)/ (y_pred+0.00001)\n",
    "\n",
    "for r in results:\n",
    "    with open('results_relative.csv','a') as fd:\n",
    "        writer = csv.writer(fd)\n",
    "        writer.writerow([r, 'baseline'])"
   ]
  },
  {
   "cell_type": "code",
   "execution_count": 31,
   "metadata": {},
   "outputs": [
    {
     "data": {
      "image/png": "[encoded data removed]",
      "text/plain": [
       "<Figure size 360x360 with 2 Axes>"
      ]
     },
     "metadata": {},
     "output_type": "display_data"
    }
   ],
   "source": [
    "y_true = data250['y_true']\n",
    "y_pred = data250['y_pred']\n",
    "\n",
    "cm_train = confusion_matrix(y_true, y_pred, labels=range(11))\n",
    "\n",
    "# Create figure\n",
    "fig, ax = plt.subplots(1,1, figsize=(5,5))\n",
    "fig.set_facecolor('white')\n",
    "\n",
    "\n",
    "# Plot confusion matrix for training data\n",
    "sns.heatmap(cm_train, annot=True, fmt='g', ax=ax, cmap=\"Blues\")\n",
    "\n",
    "ax.set_xlabel('Predicted labels')\n",
    "ax.set_ylabel('True labels')\n",
    "ax.set_title('Confusion Matrix for 250-Speaker Model')\n",
    "\n",
    "b, t = plt.ylim() # discover the values for bottom and top\n",
    "b += 0.5 # Add 0.5 to the bottom\n",
    "t -= 0.5 # Subtract 0.5 from the top\n",
    "plt.ylim(b, t) # update the ylim(bottom, top) values\n",
    "plt.savefig(\"confusion_250.png\")\n",
    "plt.show() # ta-da!\n"
   ]
  },
  {
   "cell_type": "code",
   "execution_count": 32,
   "metadata": {},
   "outputs": [
    {
     "name": "stdout",
     "output_type": "stream",
     "text": [
      "MAE: 0.42053789731051344\n",
      "MAE St.Dev.: 0.589257345954426\n",
      "Relative MAE: 0.07274308676451735\n",
      "Relative MAE St.Dev.: 0.10877958266631683\n"
     ]
    }
   ],
   "source": [
    "y_true = np.array(y_true)\n",
    "y_pred = np.array(y_pred)\n",
    "\n",
    "print(\"MAE: {}\".format(mae(y_true, y_pred)))\n",
    "print(\"MAE St.Dev.: {}\".format(statistics.stdev(abs(y_true.astype(np.float)-y_pred.astype(np.float)))))\n",
    "print(\"Relative MAE: {}\".format(np.mean(abs(y_true-y_pred)/ (y_pred+0.00001))))\n",
    "print(\"Relative MAE St.Dev.: {}\".format(statistics.stdev( abs(y_true-y_pred)/ (y_pred+0.00001) )))"
   ]
  },
  {
   "cell_type": "code",
   "execution_count": 33,
   "metadata": {
    "scrolled": true
   },
   "outputs": [],
   "source": [
    "# results = abs(y_true-y_pred)\n",
    "\n",
    "# for r in results:\n",
    "#     with open('results.csv','a') as fd:\n",
    "#         writer = csv.writer(fd)\n",
    "#         writer.writerow([r, '250 Speakers'])"
   ]
  },
  {
   "cell_type": "code",
   "execution_count": 34,
   "metadata": {},
   "outputs": [],
   "source": [
    "results = abs(y_true-y_pred)/ (y_pred+0.00001)\n",
    "\n",
    "for r in results:\n",
    "    with open('results_relative.csv','a') as fd:\n",
    "        writer = csv.writer(fd)\n",
    "        writer.writerow([r, '250 Speakers'])"
   ]
  },
  {
   "cell_type": "code",
   "execution_count": 35,
   "metadata": {
    "scrolled": true
   },
   "outputs": [
    {
     "data": {
      "image/png": "[encoded data removed]",
      "text/plain": [
       "<Figure size 360x360 with 2 Axes>"
      ]
     },
     "metadata": {},
     "output_type": "display_data"
    }
   ],
   "source": [
    "y_true = data500['y_true']\n",
    "y_pred = data500['y_pred']\n",
    "\n",
    "cm_train = confusion_matrix(y_true, y_pred, labels=range(11))\n",
    "\n",
    "# Create figure\n",
    "fig, ax = plt.subplots(1,1, figsize=(5,5))\n",
    "fig.set_facecolor('white')\n",
    "\n",
    "\n",
    "# Plot confusion matrix for training data\n",
    "sns.heatmap(cm_train, annot=True, fmt='g', ax=ax, cmap=\"Blues\")\n",
    "\n",
    "ax.set_xlabel('Predicted labels')\n",
    "ax.set_ylabel('True labels')\n",
    "ax.set_title('Confusion Matrix for 500-Speaker Model')\n",
    "\n",
    "b, t = plt.ylim() # discover the values for bottom and top\n",
    "b += 0.5 # Add 0.5 to the bottom\n",
    "t -= 0.5 # Subtract 0.5 from the top\n",
    "plt.ylim(b, t) # update the ylim(bottom, top) values\n",
    "plt.savefig(\"confusion_500.png\")\n",
    "plt.show() # ta-da!\n",
    "\n",
    "\n"
   ]
  },
  {
   "cell_type": "code",
   "execution_count": 36,
   "metadata": {
    "scrolled": true
   },
   "outputs": [
    {
     "name": "stdout",
     "output_type": "stream",
     "text": [
      "MAE: 0.4156479217603912\n",
      "MAE St.Dev.: 0.5801872865737389\n",
      "Relative MAE: 0.07169619299803857\n",
      "Relative MAE St.Dev.: 0.11379483896360802\n"
     ]
    }
   ],
   "source": [
    "y_true = np.array(y_true)\n",
    "y_pred = np.array(y_pred)\n",
    "\n",
    "print(\"MAE: {}\".format(mae(y_true, y_pred)))\n",
    "print(\"MAE St.Dev.: {}\".format(statistics.stdev(abs(y_true.astype(np.float)-y_pred.astype(np.float)))))\n",
    "print(\"Relative MAE: {}\".format(np.mean(abs(y_true-y_pred)/ (y_pred+0.00001))))\n",
    "print(\"Relative MAE St.Dev.: {}\".format(statistics.stdev( abs(y_true-y_pred)/ (y_pred+0.00001) )))"
   ]
  },
  {
   "cell_type": "code",
   "execution_count": 37,
   "metadata": {},
   "outputs": [],
   "source": [
    "# results = abs(y_true-y_pred)\n",
    "# for r in results:\n",
    "#     with open('results.csv','a') as fd:\n",
    "#         writer = csv.writer(fd)\n",
    "#         writer.writerow([r, '500 Speakers'])"
   ]
  },
  {
   "cell_type": "code",
   "execution_count": 38,
   "metadata": {},
   "outputs": [],
   "source": [
    "results = abs(y_true-y_pred)/ (y_pred+0.00001)\n",
    "\n",
    "for r in results:\n",
    "    with open('results_relative.csv','a') as fd:\n",
    "        writer = csv.writer(fd)\n",
    "        writer.writerow([r, '500 Speakers'])"
   ]
  },
  {
   "cell_type": "code",
   "execution_count": 39,
   "metadata": {
    "scrolled": true
   },
   "outputs": [
    {
     "data": {
      "image/png": "[encoded data removed]",
      "text/plain": [
       "<Figure size 360x360 with 2 Axes>"
      ]
     },
     "metadata": {},
     "output_type": "display_data"
    }
   ],
   "source": [
    "y_true = data750['y_true']\n",
    "y_pred = data750['y_pred']\n",
    "\n",
    "cm_train = confusion_matrix(y_true, y_pred, labels=range(11))\n",
    "\n",
    "# Create figure\n",
    "fig, ax = plt.subplots(1,1, figsize=(5,5))\n",
    "fig.set_facecolor('white')\n",
    "\n",
    "\n",
    "# Plot confusion matrix for training data\n",
    "sns.heatmap(cm_train, annot=True, fmt='g', ax=ax, cmap=\"Blues\")\n",
    "\n",
    "ax.set_xlabel('Predicted labels')\n",
    "ax.set_ylabel('True labels')\n",
    "ax.set_title('Confusion Matrix for 750-Speaker Model')\n",
    "\n",
    "b, t = plt.ylim() # discover the values for bottom and top\n",
    "b += 0.5 # Add 0.5 to the bottom\n",
    "t -= 0.5 # Subtract 0.5 from the top\n",
    "plt.ylim(b, t) # update the ylim(bottom, top) values\n",
    "plt.savefig(\"confusion_750.png\")\n",
    "plt.show() # ta-da!\n"
   ]
  },
  {
   "cell_type": "code",
   "execution_count": 40,
   "metadata": {
    "scrolled": true
   },
   "outputs": [
    {
     "name": "stdout",
     "output_type": "stream",
     "text": [
      "MAE: 0.39364303178484106\n",
      "MAE St.Dev.: 0.5891658108321721\n",
      "Relative MAE: 0.0669042259430424\n",
      "Relative MAE St.Dev.: 0.10984922658566777\n"
     ]
    }
   ],
   "source": [
    "y_true = np.array(y_true)\n",
    "y_pred = np.array(y_pred)\n",
    "\n",
    "print(\"MAE: {}\".format(mae(y_true, y_pred)))\n",
    "print(\"MAE St.Dev.: {}\".format(statistics.stdev(abs(y_true.astype(np.float)-y_pred.astype(np.float)))))\n",
    "print(\"Relative MAE: {}\".format(np.mean(abs(y_true-y_pred)/ (y_pred+0.00001))))\n",
    "print(\"Relative MAE St.Dev.: {}\".format(statistics.stdev( abs(y_true-y_pred)/ (y_pred+0.00001) )))"
   ]
  },
  {
   "cell_type": "code",
   "execution_count": 41,
   "metadata": {},
   "outputs": [],
   "source": [
    "# results = abs(y_true-y_pred)\n",
    "# for r in results:\n",
    "#     with open('results.csv','a') as fd:\n",
    "#         writer = csv.writer(fd)\n",
    "#         writer.writerow([r, '750 Speakers'])"
   ]
  },
  {
   "cell_type": "code",
   "execution_count": 42,
   "metadata": {},
   "outputs": [],
   "source": [
    "results = abs(y_true-y_pred)/ (y_pred+0.00001)\n",
    "\n",
    "for r in results:\n",
    "    with open('results_relative.csv','a') as fd:\n",
    "        writer = csv.writer(fd)\n",
    "        writer.writerow([r, '750 Speakers'])"
   ]
  },
  {
   "cell_type": "code",
   "execution_count": null,
   "metadata": {},
   "outputs": [],
   "source": []
  },
  {
   "cell_type": "code",
   "execution_count": null,
   "metadata": {},
   "outputs": [],
   "source": []
  }
 ],
 "metadata": {
  "kernelspec": {
   "display_name": "Python 3",
   "language": "python",
   "name": "python3"
  },
  "language_info": {
   "codemirror_mode": {
    "name": "ipython",
    "version": 3
   },
   "file_extension": ".py",
   "mimetype": "text/x-python",
   "name": "python",
   "nbconvert_exporter": "python",
   "pygments_lexer": "ipython3",
   "version": "3.6.9"
  }
 },
 "nbformat": 4,
 "nbformat_minor": 2
}
