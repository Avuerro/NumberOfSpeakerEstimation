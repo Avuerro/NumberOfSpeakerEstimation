{
 "cells": [
  {
   "cell_type": "code",
   "execution_count": 1,
   "metadata": {},
   "outputs": [
    {
     "name": "stderr",
     "output_type": "stream",
     "text": [
      "Using TensorFlow backend.\n"
     ]
    }
   ],
   "source": [
    "import tensorflow as tf\n",
    "# from tensorflow import keras\n",
    "import matplotlib.pyplot as plt\n",
    "import numpy as np\n",
    "import keras\n",
    "from keras import backend as K\n",
    "\n",
    "from src import data\n",
    "from src import error_function\n",
    "\n",
    "jobs = 6 # number of cores\n",
    "config = tf.ConfigProto(intra_op_parallelism_threads=jobs,\n",
    "                     inter_op_parallelism_threads=jobs,\n",
    "                     allow_soft_placement=True,\n",
    "                     device_count={'CPU': jobs})\n",
    "session = tf.Session(config=config)\n",
    "K.set_session(session)"
   ]
  },
  {
   "cell_type": "code",
   "execution_count": null,
   "metadata": {},
   "outputs": [],
   "source": []
  },
  {
   "cell_type": "code",
   "execution_count": 9,
   "metadata": {
    "scrolled": false
   },
   "outputs": [
    {
     "name": "stderr",
     "output_type": "stream",
     "text": [
      "/Users/jordynaus/Documents/Artificial Intelligence/Master/2021 Sem. 2/Automatic Speech Recognition/asr/lib/python3.7/site-packages/keras/engine/base_layer.py:1179: UserWarning: Update your `Conv2D` call to the Keras 2 API: `Conv2D(name=\"conv1\", activity_regularizer=None, trainable=True, activation=\"relu\", kernel_size=(3, 3), filters=64, strides=[1, 1], padding=\"valid\", data_format=\"channels_first\", kernel_initializer=\"glorot_uniform\", kernel_regularizer=None, bias_regularizer=None, kernel_constraint=None, bias_constraint=None, use_bias=True)`\n",
      "  return cls(**config)\n",
      "/Users/jordynaus/Documents/Artificial Intelligence/Master/2021 Sem. 2/Automatic Speech Recognition/asr/lib/python3.7/site-packages/keras/engine/base_layer.py:1179: UserWarning: Update your `Conv2D` call to the Keras 2 API: `Conv2D(name=\"conv2\", activity_regularizer=None, trainable=True, activation=\"relu\", kernel_size=(3, 3), filters=32, strides=[1, 1], padding=\"valid\", data_format=\"channels_first\", kernel_initializer=\"glorot_uniform\", kernel_regularizer=None, bias_regularizer=None, kernel_constraint=None, bias_constraint=None, use_bias=True)`\n",
      "  return cls(**config)\n",
      "/Users/jordynaus/Documents/Artificial Intelligence/Master/2021 Sem. 2/Automatic Speech Recognition/asr/lib/python3.7/site-packages/keras/engine/base_layer.py:1179: UserWarning: Update your `MaxPooling2D` call to the Keras 2 API: `MaxPooling2D(name=\"pool1\", trainable=True, pool_size=[3, 3], strides=[3, 3], padding=\"valid\", data_format=\"channels_first\")`\n",
      "  return cls(**config)\n",
      "/Users/jordynaus/Documents/Artificial Intelligence/Master/2021 Sem. 2/Automatic Speech Recognition/asr/lib/python3.7/site-packages/keras/engine/base_layer.py:1179: UserWarning: Update your `Conv2D` call to the Keras 2 API: `Conv2D(name=\"conv3\", activity_regularizer=None, trainable=True, activation=\"relu\", kernel_size=(3, 3), filters=128, strides=[1, 1], padding=\"valid\", data_format=\"channels_first\", kernel_initializer=\"glorot_uniform\", kernel_regularizer=None, bias_regularizer=None, kernel_constraint=None, bias_constraint=None, use_bias=True)`\n",
      "  return cls(**config)\n",
      "/Users/jordynaus/Documents/Artificial Intelligence/Master/2021 Sem. 2/Automatic Speech Recognition/asr/lib/python3.7/site-packages/keras/engine/base_layer.py:1179: UserWarning: Update your `Conv2D` call to the Keras 2 API: `Conv2D(name=\"conv4\", activity_regularizer=None, trainable=True, activation=\"relu\", kernel_size=(3, 3), filters=64, strides=[1, 1], padding=\"valid\", data_format=\"channels_first\", kernel_initializer=\"glorot_uniform\", kernel_regularizer=None, bias_regularizer=None, kernel_constraint=None, bias_constraint=None, use_bias=True)`\n",
      "  return cls(**config)\n",
      "/Users/jordynaus/Documents/Artificial Intelligence/Master/2021 Sem. 2/Automatic Speech Recognition/asr/lib/python3.7/site-packages/keras/engine/base_layer.py:1179: UserWarning: Update your `MaxPooling2D` call to the Keras 2 API: `MaxPooling2D(name=\"pool2\", trainable=True, pool_size=[3, 3], strides=[3, 3], padding=\"valid\", data_format=\"channels_first\")`\n",
      "  return cls(**config)\n",
      "/Users/jordynaus/Documents/Artificial Intelligence/Master/2021 Sem. 2/Automatic Speech Recognition/asr/lib/python3.7/site-packages/keras/engine/base_layer.py:1179: UserWarning: Update your `Dropout` call to the Keras 2 API: `Dropout(trainable=True, name=\"dropout_1\", rate=0.5)`\n",
      "  return cls(**config)\n",
      "/Users/jordynaus/Documents/Artificial Intelligence/Master/2021 Sem. 2/Automatic Speech Recognition/asr/lib/python3.7/site-packages/keras/layers/recurrent.py:2346: UserWarning: The `input_dim` and `input_length` arguments in recurrent layers are deprecated. Use `input_shape` instead.\n",
      "  return cls(**config)\n",
      "/Users/jordynaus/Documents/Artificial Intelligence/Master/2021 Sem. 2/Automatic Speech Recognition/asr/lib/python3.7/site-packages/keras/layers/recurrent.py:2346: UserWarning: Update your `LSTM` call to the Keras 2 API: `LSTM(name=\"lstm_1\", go_backwards=False, activation=\"tanh\", trainable=True, unroll=False, stateful=False, return_sequences=True, unit_forget_bias=True, input_shape=(None, 128..., units=40, kernel_initializer=\"glorot_uniform\", recurrent_initializer=\"orthogonal\", recurrent_activation=\"hard_sigmoid\", kernel_regularizer=None, bias_regularizer=None, recurrent_regularizer=None, dropout=0.0, recurrent_dropout=0.0, implementation=0)`\n",
      "  return cls(**config)\n",
      "/Users/jordynaus/Documents/Artificial Intelligence/Master/2021 Sem. 2/Automatic Speech Recognition/asr/lib/python3.7/site-packages/keras/layers/recurrent.py:2198: UserWarning: `implementation=0` has been deprecated, and now defaults to `implementation=1`.Please update your layer call.\n",
      "  warnings.warn('`implementation=0` has been deprecated, '\n",
      "/Users/jordynaus/Documents/Artificial Intelligence/Master/2021 Sem. 2/Automatic Speech Recognition/asr/lib/python3.7/site-packages/keras/engine/base_layer.py:1179: UserWarning: Update your `MaxPooling1D` call to the Keras 2 API: `MaxPooling1D(trainable=True, name=\"maxpooling1d_1\", pool_size=2, strides=2, padding=\"valid\")`\n",
      "  return cls(**config)\n",
      "/Users/jordynaus/Documents/Artificial Intelligence/Master/2021 Sem. 2/Automatic Speech Recognition/asr/lib/python3.7/site-packages/keras/engine/base_layer.py:1179: UserWarning: Update your `Dense` call to the Keras 2 API: `Dense(name=\"dense_1\", activity_regularizer=None, trainable=True, input_dim=1040, activation=\"linear\", units=11, kernel_initializer=\"glorot_uniform\", kernel_regularizer=None, bias_regularizer=None, kernel_constraint=None, bias_constraint=None, use_bias=True)`\n",
      "  return cls(**config)\n",
      "/Users/jordynaus/Documents/Artificial Intelligence/Master/2021 Sem. 2/Automatic Speech Recognition/asr/lib/python3.7/site-packages/keras/engine/saving.py:384: UserWarning: Error in loading the saved optimizer state. As a result, your model is starting with a freshly initialized optimizer.\n",
      "  warnings.warn('Error in loading the saved optimizer '\n"
     ]
    }
   ],
   "source": [
    "## loading the model\n",
    "model = keras.models.load_model('data/models/CRNN.h5',         \n",
    "        custom_objects={ \n",
    "            'class_mae': error_function.class_mae,\n",
    "            'exp': keras.backend.exp\n",
    "        })"
   ]
  },
  {
   "cell_type": "code",
   "execution_count": 10,
   "metadata": {
    "scrolled": false
   },
   "outputs": [
    {
     "name": "stdout",
     "output_type": "stream",
     "text": [
      "Model: \"sequential_2\"\n",
      "_________________________________________________________________\n",
      "Layer (type)                 Output Shape              Param #   \n",
      "=================================================================\n",
      "zero1 (ZeroPadding2D)        (None, 1, 500, 201)       0         \n",
      "_________________________________________________________________\n",
      "conv1 (Conv2D)               (None, 64, 498, 199)      640       \n",
      "_________________________________________________________________\n",
      "conv2 (Conv2D)               (None, 32, 496, 197)      18464     \n",
      "_________________________________________________________________\n",
      "pool1 (MaxPooling2D)         (None, 32, 165, 65)       0         \n",
      "_________________________________________________________________\n",
      "conv3 (Conv2D)               (None, 128, 163, 63)      36992     \n",
      "_________________________________________________________________\n",
      "conv4 (Conv2D)               (None, 64, 161, 61)       73792     \n",
      "_________________________________________________________________\n",
      "pool2 (MaxPooling2D)         (None, 64, 53, 20)        0         \n",
      "_________________________________________________________________\n",
      "dropout_1 (Dropout)          (None, 64, 53, 20)        0         \n",
      "_________________________________________________________________\n",
      "permute_1 (Permute)          (None, 53, 64, 20)        0         \n",
      "_________________________________________________________________\n",
      "reshape_1 (Reshape)          (None, 53, 1280)          0         \n",
      "_________________________________________________________________\n",
      "lstm_1 (LSTM)                (None, 53, 40)            211360    \n",
      "_________________________________________________________________\n",
      "maxpooling1d_1 (MaxPooling1D (None, 26, 40)            0         \n",
      "_________________________________________________________________\n",
      "flatten_1 (Flatten)          (None, 1040)              0         \n",
      "_________________________________________________________________\n",
      "dense_1 (Dense)              (None, 11)                11451     \n",
      "_________________________________________________________________\n",
      "activation_1 (Activation)    (None, 11)                0         \n",
      "=================================================================\n",
      "Total params: 352,699\n",
      "Trainable params: 352,699\n",
      "Non-trainable params: 0\n",
      "_________________________________________________________________\n"
     ]
    }
   ],
   "source": [
    "model.summary()"
   ]
  },
  {
   "cell_type": "code",
   "execution_count": 4,
   "metadata": {},
   "outputs": [
    {
     "name": "stdout",
     "output_type": "stream",
     "text": [
      "Found 7860 images belonging to 11 classes.\n",
      "Found 3363 images belonging to 11 classes.\n"
     ]
    }
   ],
   "source": [
    "## load dataset\n",
    "train_dataset, val_dataset = data.create_tensorflow_dataset('./data/trainset100/stft/', batch_size=32, val_split = 0.3)"
   ]
  },
  {
   "cell_type": "code",
   "execution_count": 5,
   "metadata": {},
   "outputs": [
    {
     "data": {
      "text/plain": [
       "array([[[[0.01176471, 0.01960784, 0.01176471, ..., 0.01176471,\n",
       "          0.01176471, 0.01176471],\n",
       "         [0.01176471, 0.01960784, 0.01176471, ..., 0.01176471,\n",
       "          0.01176471, 0.01176471],\n",
       "         [0.02352941, 0.01960784, 0.01176471, ..., 0.01176471,\n",
       "          0.01176471, 0.01176471],\n",
       "         ...,\n",
       "         [0.01176471, 0.01568628, 0.01568628, ..., 0.03137255,\n",
       "          0.02352941, 0.03137255],\n",
       "         [0.01568628, 0.01176471, 0.01568628, ..., 0.02745098,\n",
       "          0.04313726, 0.04705883],\n",
       "         [0.01568628, 0.01176471, 0.01568628, ..., 0.02745098,\n",
       "          0.04313726, 0.04705883]]],\n",
       "\n",
       "\n",
       "       [[[0.01176471, 0.01176471, 0.01176471, ..., 0.01176471,\n",
       "          0.01176471, 0.01176471],\n",
       "         [0.01176471, 0.01176471, 0.01176471, ..., 0.01176471,\n",
       "          0.01176471, 0.01176471],\n",
       "         [0.01176471, 0.01176471, 0.01176471, ..., 0.01176471,\n",
       "          0.01176471, 0.01176471],\n",
       "         ...,\n",
       "         [0.0627451 , 0.0627451 , 0.05882353, ..., 0.04705883,\n",
       "          0.03921569, 0.03137255],\n",
       "         [0.09019608, 0.10196079, 0.08235294, ..., 0.09803922,\n",
       "          0.07450981, 0.07450981],\n",
       "         [0.09019608, 0.10196079, 0.08235294, ..., 0.09803922,\n",
       "          0.07450981, 0.07450981]]],\n",
       "\n",
       "\n",
       "       [[[0.01176471, 0.01176471, 0.01176471, ..., 0.01176471,\n",
       "          0.01176471, 0.01176471],\n",
       "         [0.01176471, 0.01176471, 0.01176471, ..., 0.01176471,\n",
       "          0.01176471, 0.01176471],\n",
       "         [0.01176471, 0.01176471, 0.01176471, ..., 0.01176471,\n",
       "          0.01176471, 0.01176471],\n",
       "         ...,\n",
       "         [0.03137255, 0.03529412, 0.03529412, ..., 0.07843138,\n",
       "          0.03137255, 0.01568628],\n",
       "         [0.04313726, 0.05490196, 0.05882353, ..., 0.09019608,\n",
       "          0.02745098, 0.03137255],\n",
       "         [0.04313726, 0.05490196, 0.05882353, ..., 0.09019608,\n",
       "          0.02745098, 0.03137255]]],\n",
       "\n",
       "\n",
       "       ...,\n",
       "\n",
       "\n",
       "       [[[0.01176471, 0.01176471, 0.01176471, ..., 0.01176471,\n",
       "          0.01176471, 0.01176471],\n",
       "         [0.01176471, 0.01176471, 0.01176471, ..., 0.01176471,\n",
       "          0.01176471, 0.01176471],\n",
       "         [0.01176471, 0.01176471, 0.01176471, ..., 0.01176471,\n",
       "          0.01176471, 0.01176471],\n",
       "         ...,\n",
       "         [0.43529415, 0.44705886, 0.43529415, ..., 0.41960788,\n",
       "          0.40784317, 0.41176474],\n",
       "         [0.95294124, 0.9568628 , 0.9568628 , ..., 0.9568628 ,\n",
       "          0.9490197 , 0.95294124],\n",
       "         [0.95294124, 0.9568628 , 0.9568628 , ..., 0.9568628 ,\n",
       "          0.9490197 , 0.95294124]]],\n",
       "\n",
       "\n",
       "       [[[0.01176471, 0.01176471, 0.01176471, ..., 0.01176471,\n",
       "          0.01176471, 0.01176471],\n",
       "         [0.01176471, 0.01176471, 0.01176471, ..., 0.01176471,\n",
       "          0.01176471, 0.01176471],\n",
       "         [0.01176471, 0.01176471, 0.01176471, ..., 0.01176471,\n",
       "          0.01176471, 0.01176471],\n",
       "         ...,\n",
       "         [0.454902  , 0.43137258, 0.41960788, ..., 0.44705886,\n",
       "          0.45882356, 0.43529415],\n",
       "         [0.9725491 , 0.95294124, 0.95294124, ..., 0.9607844 ,\n",
       "          0.96470594, 0.95294124],\n",
       "         [0.9725491 , 0.95294124, 0.95294124, ..., 0.9607844 ,\n",
       "          0.96470594, 0.95294124]]],\n",
       "\n",
       "\n",
       "       [[[0.01568628, 0.01568628, 0.01176471, ..., 0.01176471,\n",
       "          0.01176471, 0.01176471],\n",
       "         [0.01568628, 0.01568628, 0.01176471, ..., 0.01176471,\n",
       "          0.01176471, 0.01176471],\n",
       "         [0.03137255, 0.01960784, 0.01176471, ..., 0.01568628,\n",
       "          0.01176471, 0.01176471],\n",
       "         ...,\n",
       "         [0.14901961, 0.16862746, 0.17254902, ..., 0.16078432,\n",
       "          0.1764706 , 0.14117648],\n",
       "         [0.36078432, 0.36862746, 0.3803922 , ..., 0.37647063,\n",
       "          0.38823533, 0.28627452],\n",
       "         [0.36078432, 0.36862746, 0.3803922 , ..., 0.37647063,\n",
       "          0.38823533, 0.28627452]]]], dtype=float32)"
      ]
     },
     "execution_count": 5,
     "metadata": {},
     "output_type": "execute_result"
    }
   ],
   "source": [
    "train_dataset[0][0]"
   ]
  },
  {
   "cell_type": "code",
   "execution_count": 6,
   "metadata": {
    "scrolled": true
   },
   "outputs": [
    {
     "name": "stdout",
     "output_type": "stream",
     "text": [
      "Epoch 1/2\n",
      "246/246 [==============================] - 1963s 8s/step - loss: 1.9864 - accuracy: 0.3324 - class_mae: 1.7724 - val_loss: 1.4749 - val_accuracy: 0.4737 - val_class_mae: 0.7925\n",
      "Epoch 2/2\n",
      "246/246 [==============================] - 1948s 8s/step - loss: 1.1877 - accuracy: 0.4818 - class_mae: 0.8618 - val_loss: 1.2519 - val_accuracy: 0.5019 - val_class_mae: 0.7642\n"
     ]
    }
   ],
   "source": [
    "history = model.fit(train_dataset, validation_data=val_dataset, epochs = 2)"
   ]
  },
  {
   "cell_type": "code",
   "execution_count": 8,
   "metadata": {},
   "outputs": [],
   "source": [
    "model.save('data/models/CRNN_100.h5', overwrite=True, include_optimizer=True)"
   ]
  },
  {
   "cell_type": "code",
   "execution_count": null,
   "metadata": {},
   "outputs": [],
   "source": []
  }
 ],
 "metadata": {
  "kernelspec": {
   "display_name": "asr",
   "language": "python",
   "name": "asr"
  },
  "language_info": {
   "codemirror_mode": {
    "name": "ipython",
    "version": 3
   },
   "file_extension": ".py",
   "mimetype": "text/x-python",
   "name": "python",
   "nbconvert_exporter": "python",
   "pygments_lexer": "ipython3",
   "version": "3.7.2"
  }
 },
 "nbformat": 4,
 "nbformat_minor": 4
}
