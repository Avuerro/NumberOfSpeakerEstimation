{
 "cells": [
  {
   "cell_type": "markdown",
   "metadata": {},
   "source": [
    "## loading the model and continuing training "
   ]
  },
  {
   "cell_type": "code",
   "execution_count": 4,
   "metadata": {},
   "outputs": [],
   "source": [
    "import tensorflow as tf\n",
    "# from tensorflow import keras\n",
    "import matplotlib.pyplot as plt\n",
    "import numpy as np\n",
    "import keras\n",
    "from keras import backend as K\n",
    "\n",
    "from src import data\n",
    "from src import error_function"
   ]
  },
  {
   "cell_type": "code",
   "execution_count": null,
   "metadata": {},
   "outputs": [],
   "source": []
  },
  {
   "cell_type": "code",
   "execution_count": null,
   "metadata": {},
   "outputs": [],
   "source": [
    "!ls ../data/spectrograms/0"
   ]
  },
  {
   "cell_type": "code",
   "execution_count": 2,
   "metadata": {},
   "outputs": [
    {
     "name": "stdout",
     "output_type": "stream",
     "text": [
      "Found 1948 images belonging to 11 classes.\n"
     ]
    }
   ],
   "source": [
    "## load dataset\n",
    "dataset = data.create_tensorflow_dataset('../data/spectrograms',batch_size=32)\n"
   ]
  },
  {
   "cell_type": "code",
   "execution_count": null,
   "metadata": {},
   "outputs": [],
   "source": []
  },
  {
   "cell_type": "code",
   "execution_count": 5,
   "metadata": {
    "scrolled": true
   },
   "outputs": [
    {
     "name": "stdout",
     "output_type": "stream",
     "text": [
      "WARNING:tensorflow:From /home/chb3k/anaconda3/envs/py37asr/lib/python3.7/site-packages/tensorflow_core/python/ops/resource_variable_ops.py:1630: calling BaseResourceVariable.__init__ (from tensorflow.python.ops.resource_variable_ops) with constraint is deprecated and will be removed in a future version.\n",
      "Instructions for updating:\n",
      "If using Keras pass *_constraint arguments to layers.\n",
      "WARNING:tensorflow:From /home/chb3k/anaconda3/envs/py37asr/lib/python3.7/site-packages/keras/backend/tensorflow_backend.py:4070: The name tf.nn.max_pool is deprecated. Please use tf.nn.max_pool2d instead.\n",
      "\n"
     ]
    },
    {
     "name": "stderr",
     "output_type": "stream",
     "text": [
      "/home/chb3k/anaconda3/envs/py37asr/lib/python3.7/site-packages/keras/engine/base_layer.py:1179: UserWarning: Update your `Conv2D` call to the Keras 2 API: `Conv2D(name=\"conv1\", activity_regularizer=None, trainable=True, activation=\"relu\", kernel_size=(3, 3), filters=64, strides=[1, 1], padding=\"valid\", data_format=\"channels_first\", kernel_initializer=\"glorot_uniform\", kernel_regularizer=None, bias_regularizer=None, kernel_constraint=None, bias_constraint=None, use_bias=True)`\n",
      "  return cls(**config)\n",
      "/home/chb3k/anaconda3/envs/py37asr/lib/python3.7/site-packages/keras/engine/base_layer.py:1179: UserWarning: Update your `Conv2D` call to the Keras 2 API: `Conv2D(name=\"conv2\", activity_regularizer=None, trainable=True, activation=\"relu\", kernel_size=(3, 3), filters=32, strides=[1, 1], padding=\"valid\", data_format=\"channels_first\", kernel_initializer=\"glorot_uniform\", kernel_regularizer=None, bias_regularizer=None, kernel_constraint=None, bias_constraint=None, use_bias=True)`\n",
      "  return cls(**config)\n",
      "/home/chb3k/anaconda3/envs/py37asr/lib/python3.7/site-packages/keras/engine/base_layer.py:1179: UserWarning: Update your `MaxPooling2D` call to the Keras 2 API: `MaxPooling2D(name=\"pool1\", trainable=True, pool_size=[3, 3], strides=[3, 3], padding=\"valid\", data_format=\"channels_first\")`\n",
      "  return cls(**config)\n",
      "/home/chb3k/anaconda3/envs/py37asr/lib/python3.7/site-packages/keras/engine/base_layer.py:1179: UserWarning: Update your `Conv2D` call to the Keras 2 API: `Conv2D(name=\"conv3\", activity_regularizer=None, trainable=True, activation=\"relu\", kernel_size=(3, 3), filters=128, strides=[1, 1], padding=\"valid\", data_format=\"channels_first\", kernel_initializer=\"glorot_uniform\", kernel_regularizer=None, bias_regularizer=None, kernel_constraint=None, bias_constraint=None, use_bias=True)`\n",
      "  return cls(**config)\n",
      "/home/chb3k/anaconda3/envs/py37asr/lib/python3.7/site-packages/keras/engine/base_layer.py:1179: UserWarning: Update your `Conv2D` call to the Keras 2 API: `Conv2D(name=\"conv4\", activity_regularizer=None, trainable=True, activation=\"relu\", kernel_size=(3, 3), filters=64, strides=[1, 1], padding=\"valid\", data_format=\"channels_first\", kernel_initializer=\"glorot_uniform\", kernel_regularizer=None, bias_regularizer=None, kernel_constraint=None, bias_constraint=None, use_bias=True)`\n",
      "  return cls(**config)\n",
      "/home/chb3k/anaconda3/envs/py37asr/lib/python3.7/site-packages/keras/engine/base_layer.py:1179: UserWarning: Update your `MaxPooling2D` call to the Keras 2 API: `MaxPooling2D(name=\"pool2\", trainable=True, pool_size=[3, 3], strides=[3, 3], padding=\"valid\", data_format=\"channels_first\")`\n",
      "  return cls(**config)\n",
      "/home/chb3k/anaconda3/envs/py37asr/lib/python3.7/site-packages/keras/engine/base_layer.py:1179: UserWarning: Update your `Dropout` call to the Keras 2 API: `Dropout(trainable=True, name=\"dropout_1\", rate=0.5)`\n",
      "  return cls(**config)\n",
      "/home/chb3k/anaconda3/envs/py37asr/lib/python3.7/site-packages/keras/layers/recurrent.py:2346: UserWarning: The `input_dim` and `input_length` arguments in recurrent layers are deprecated. Use `input_shape` instead.\n",
      "  return cls(**config)\n",
      "/home/chb3k/anaconda3/envs/py37asr/lib/python3.7/site-packages/keras/layers/recurrent.py:2346: UserWarning: Update your `LSTM` call to the Keras 2 API: `LSTM(name=\"lstm_1\", go_backwards=False, activation=\"tanh\", trainable=True, unroll=False, stateful=False, return_sequences=True, unit_forget_bias=True, input_shape=(None, 128..., units=40, kernel_initializer=\"glorot_uniform\", recurrent_initializer=\"orthogonal\", recurrent_activation=\"hard_sigmoid\", kernel_regularizer=None, bias_regularizer=None, recurrent_regularizer=None, dropout=0.0, recurrent_dropout=0.0, implementation=0)`\n",
      "  return cls(**config)\n",
      "/home/chb3k/anaconda3/envs/py37asr/lib/python3.7/site-packages/keras/layers/recurrent.py:2198: UserWarning: `implementation=0` has been deprecated, and now defaults to `implementation=1`.Please update your layer call.\n",
      "  warnings.warn('`implementation=0` has been deprecated, '\n",
      "/home/chb3k/anaconda3/envs/py37asr/lib/python3.7/site-packages/keras/engine/base_layer.py:1179: UserWarning: Update your `MaxPooling1D` call to the Keras 2 API: `MaxPooling1D(trainable=True, name=\"maxpooling1d_1\", pool_size=2, strides=2, padding=\"valid\")`\n",
      "  return cls(**config)\n",
      "/home/chb3k/anaconda3/envs/py37asr/lib/python3.7/site-packages/keras/engine/base_layer.py:1179: UserWarning: Update your `Dense` call to the Keras 2 API: `Dense(name=\"dense_1\", activity_regularizer=None, trainable=True, input_dim=1040, activation=\"linear\", units=11, kernel_initializer=\"glorot_uniform\", kernel_regularizer=None, bias_regularizer=None, kernel_constraint=None, bias_constraint=None, use_bias=True)`\n",
      "  return cls(**config)\n"
     ]
    },
    {
     "name": "stdout",
     "output_type": "stream",
     "text": [
      "WARNING:tensorflow:From /home/chb3k/anaconda3/envs/py37asr/lib/python3.7/site-packages/tensorflow_core/python/ops/math_grad.py:1424: where (from tensorflow.python.ops.array_ops) is deprecated and will be removed in a future version.\n",
      "Instructions for updating:\n",
      "Use tf.where in 2.0, which has the same broadcast rule as np.where\n",
      "WARNING:tensorflow:From /home/chb3k/anaconda3/envs/py37asr/lib/python3.7/site-packages/keras/backend/tensorflow_backend.py:422: The name tf.global_variables is deprecated. Please use tf.compat.v1.global_variables instead.\n",
      "\n"
     ]
    },
    {
     "name": "stderr",
     "output_type": "stream",
     "text": [
      "/home/chb3k/anaconda3/envs/py37asr/lib/python3.7/site-packages/keras/engine/saving.py:384: UserWarning: Error in loading the saved optimizer state. As a result, your model is starting with a freshly initialized optimizer.\n",
      "  warnings.warn('Error in loading the saved optimizer '\n"
     ]
    }
   ],
   "source": [
    "## loading the model\n",
    "model = keras.models.load_model('../CRNN.h5',         \n",
    "        custom_objects={ \n",
    "            'class_mae': error_function.class_mae,\n",
    "            'exp': keras.backend.exp\n",
    "        })"
   ]
  },
  {
   "cell_type": "code",
   "execution_count": 6,
   "metadata": {},
   "outputs": [
    {
     "name": "stdout",
     "output_type": "stream",
     "text": [
      "Model: \"sequential_1\"\n",
      "_________________________________________________________________\n",
      "Layer (type)                 Output Shape              Param #   \n",
      "=================================================================\n",
      "zero1 (ZeroPadding2D)        (None, 1, 500, 201)       0         \n",
      "_________________________________________________________________\n",
      "conv1 (Conv2D)               (None, 64, 498, 199)      640       \n",
      "_________________________________________________________________\n",
      "conv2 (Conv2D)               (None, 32, 496, 197)      18464     \n",
      "_________________________________________________________________\n",
      "pool1 (MaxPooling2D)         (None, 32, 165, 65)       0         \n",
      "_________________________________________________________________\n",
      "conv3 (Conv2D)               (None, 128, 163, 63)      36992     \n",
      "_________________________________________________________________\n",
      "conv4 (Conv2D)               (None, 64, 161, 61)       73792     \n",
      "_________________________________________________________________\n",
      "pool2 (MaxPooling2D)         (None, 64, 53, 20)        0         \n",
      "_________________________________________________________________\n",
      "dropout_1 (Dropout)          (None, 64, 53, 20)        0         \n",
      "_________________________________________________________________\n",
      "permute_1 (Permute)          (None, 53, 64, 20)        0         \n",
      "_________________________________________________________________\n",
      "reshape_1 (Reshape)          (None, 53, 1280)          0         \n",
      "_________________________________________________________________\n",
      "lstm_1 (LSTM)                (None, 53, 40)            211360    \n",
      "_________________________________________________________________\n",
      "maxpooling1d_1 (MaxPooling1D (None, 26, 40)            0         \n",
      "_________________________________________________________________\n",
      "flatten_1 (Flatten)          (None, 1040)              0         \n",
      "_________________________________________________________________\n",
      "dense_1 (Dense)              (None, 11)                11451     \n",
      "_________________________________________________________________\n",
      "activation_1 (Activation)    (None, 11)                0         \n",
      "=================================================================\n",
      "Total params: 352,699\n",
      "Trainable params: 352,699\n",
      "Non-trainable params: 0\n",
      "_________________________________________________________________\n"
     ]
    }
   ],
   "source": [
    "model.summary()\n"
   ]
  },
  {
   "cell_type": "code",
   "execution_count": null,
   "metadata": {},
   "outputs": [],
   "source": [
    "# running the model\n",
    "model.fit(dataset)"
   ]
  },
  {
   "cell_type": "code",
   "execution_count": null,
   "metadata": {},
   "outputs": [],
   "source": []
  },
  {
   "cell_type": "code",
   "execution_count": null,
   "metadata": {},
   "outputs": [],
   "source": []
  },
  {
   "cell_type": "code",
   "execution_count": null,
   "metadata": {},
   "outputs": [],
   "source": []
  },
  {
   "cell_type": "code",
   "execution_count": null,
   "metadata": {},
   "outputs": [],
   "source": []
  },
  {
   "cell_type": "code",
   "execution_count": null,
   "metadata": {},
   "outputs": [],
   "source": []
  },
  {
   "cell_type": "code",
   "execution_count": null,
   "metadata": {},
   "outputs": [],
   "source": []
  },
  {
   "cell_type": "code",
   "execution_count": null,
   "metadata": {},
   "outputs": [],
   "source": []
  },
  {
   "cell_type": "code",
   "execution_count": null,
   "metadata": {},
   "outputs": [],
   "source": []
  }
 ],
 "metadata": {
  "kernelspec": {
   "display_name": "Python 3",
   "language": "python",
   "name": "python3"
  },
  "language_info": {
   "codemirror_mode": {
    "name": "ipython",
    "version": 3
   },
   "file_extension": ".py",
   "mimetype": "text/x-python",
   "name": "python",
   "nbconvert_exporter": "python",
   "pygments_lexer": "ipython3",
   "version": "3.7.9"
  }
 },
 "nbformat": 4,
 "nbformat_minor": 4
}
