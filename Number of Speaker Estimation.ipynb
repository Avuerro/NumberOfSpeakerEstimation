{
 "cells": [
  {
   "cell_type": "code",
   "execution_count": 46,
   "metadata": {},
   "outputs": [],
   "source": [
    "import numpy as np\n",
    "import scipy as scipy\n",
    "import os\n",
    "import sys\n",
    "from scipy.io import wavfile\n",
    "import soundfile as sf\n",
    "np.set_printoptions(threshold=sys.maxsize)"
   ]
  },
  {
   "cell_type": "markdown",
   "metadata": {},
   "source": [
    "## Reading FLAC, remove silence, write as WAV\n",
    "\n",
    "For this, we downloaded the [LibriSpeech Clean Speech Develoment Set](https://www.openslr.org/resources/12/dev-clean.tar.gz), and unpacked it in the \"/data\" folde"
   ]
  },
  {
   "cell_type": "code",
   "execution_count": 62,
   "metadata": {
    "scrolled": false
   },
   "outputs": [
    {
     "name": "stdout",
     "output_type": "stream",
     "text": [
      "33440\n",
      "23984\n"
     ]
    }
   ],
   "source": [
    "data, samplerate = sf.read(\"./data/LibriSpeech/dev-clean/84/121123/84-121123-0000.flac\")\n",
    "print(len(data))\n",
    "data = data[data != 0.]\n",
    "print(len(data))"
   ]
  },
  {
   "cell_type": "code",
   "execution_count": 63,
   "metadata": {},
   "outputs": [],
   "source": [
    "wavfile.write(\"./data/LibriSpeech/dev-clean/84/121123/84-121123-0000.wav\", samplerate, data)"
   ]
  },
  {
   "cell_type": "code",
   "execution_count": null,
   "metadata": {},
   "outputs": [],
   "source": []
  }
 ],
 "metadata": {
  "kernelspec": {
   "display_name": "Python 3",
   "language": "python",
   "name": "python3"
  },
  "language_info": {
   "codemirror_mode": {
    "name": "ipython",
    "version": 3
   },
   "file_extension": ".py",
   "mimetype": "text/x-python",
   "name": "python",
   "nbconvert_exporter": "python",
   "pygments_lexer": "ipython3",
   "version": "3.8.1"
  }
 },
 "nbformat": 4,
 "nbformat_minor": 4
}
